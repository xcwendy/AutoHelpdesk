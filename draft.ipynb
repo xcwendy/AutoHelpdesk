{
 "cells": [
  {
   "cell_type": "code",
   "execution_count": 1,
   "id": "a231af55",
   "metadata": {},
   "outputs": [],
   "source": [
    "#文本清洗\n",
    "import pandas as pd  \n",
    "import re  \n",
    "\n",
    "# 读取数据  \n",
    "df = pd.read_csv(\"fault_data_labeled.csv\")  \n",
    "# 去除特殊符号、数字，只保留中文/英文  \n",
    "df[\"fault_desc_clean\"] = df[\"fault_desc\"].apply(lambda x: re.sub(r\"[^\\u4e00-\\u9fa5a-zA-Z]\", \" \", str(x)))  \n",
    "# 去除停用词（如“的”“我”“怎么办”等无意义词）  \n",
    "stopwords = [\"的\", \"我\", \"怎么办\", \"电脑\", \"软件\", \"故障\"]  # 可自定义或用现成停用词表  \n",
    "df[\"fault_desc_clean\"] = df[\"fault_desc_clean\"].apply(lambda x: \" \".join([w for w in x.split() if w not in stopwords]))  "
   ]
  },
  {
   "cell_type": "code",
   "execution_count": 3,
   "id": "94412b2b",
   "metadata": {},
   "outputs": [
    {
     "name": "stdout",
     "output_type": "stream",
     "text": [
      "0                  Windows 开机后卡在登录界面 输入密码没反应 重启也没用\n",
      "1                 MacBook Pro更新系统后 触控板失灵 点击和滑动都没反应\n",
      "2                          电脑突然蓝屏 代码 x B 重启后还是循环蓝屏\n",
      "3              Windows 提示 无法验证此驱动程序的发布者 导致显卡驱动安装失败\n",
      "4             Mac系统升级到Ventura后 外接显示器显示黑屏 只识别到分辨率 x\n",
      "                          ...                     \n",
      "133                Excel数据透视表刷新时提示 引用无效 数据源未被移动或删除\n",
      "134                 钉钉直播时共享屏幕 观众看到的画面是静止的 自己这边显示正常\n",
      "135            Photoshop保存为JPG格式时 提示 无法完成请求 因为程序错误\n",
      "136             Visio插入的CAD图纸显示不全 只能看到部分内容 CAD文件完整\n",
      "137    Python使用pandas处理大数据时 提示 MemoryError 电脑内存 GB\n",
      "Name: fault_desc_clean, Length: 138, dtype: object\n"
     ]
    }
   ],
   "source": [
    "print(df[\"fault_desc_clean\"])"
   ]
  },
  {
   "cell_type": "code",
   "execution_count": 2,
   "id": "7b4f7cb8",
   "metadata": {},
   "outputs": [],
   "source": [
    "from sklearn.feature_extraction.text import TfidfVectorizer  \n",
    "\n",
    "tfidf = TfidfVectorizer(max_features=200)  # 保留200个最关键的词  \n",
    "X = tfidf.fit_transform(df[\"fault_desc_clean\"]).toarray()  # 特征矩阵  \n",
    "y = df[\"fault_type\"]  # 标签  "
   ]
  },
  {
   "cell_type": "code",
   "execution_count": 11,
   "id": "590ba326",
   "metadata": {},
   "outputs": [
    {
     "name": "stdout",
     "output_type": "stream",
     "text": [
      "[[0. 0. 0. ... 0. 0. 0.]\n",
      " [0. 0. 0. ... 0. 0. 0.]\n",
      " [0. 0. 0. ... 0. 0. 0.]\n",
      " ...\n",
      " [0. 0. 0. ... 0. 0. 0.]\n",
      " [0. 0. 0. ... 0. 0. 0.]\n",
      " [0. 0. 0. ... 0. 0. 0.]]\n"
     ]
    }
   ],
   "source": [
    "print(X)"
   ]
  },
  {
   "cell_type": "markdown",
   "id": "6afeae47",
   "metadata": {},
   "source": [
    "### 上面特征值打印出来全是0，有以下可能\n",
    "1.数据预处理不充分（最可能）\n",
    "如果 fault_desc_clean 列中的文本没有正确分词（尤其是中文），TfidfVectorizer 会将每个字符视为一个 “词”，导致特征稀疏度过高。\n",
    "示例：\n",
    "原文本：\"Windows系统蓝屏\"\n",
    "未分词时被拆分为：[\"W\", \"i\", \"n\", \"d\", \"o\", \"w\", \"s\", \"系\", \"统\", \"蓝\", \"屏\"]\n",
    "每个字符单独出现频率极低，TF-IDF 值接近 0。\n",
    "2.特征维度过高，样本稀疏\n",
    "max_features=1000 可能保留了太多不相关的特征，而你的文本数据较少（150 条），导致大部分样本在这 1000 个特征上的值为 0。\n",
    "3.文本清洗过度\n",
    "如果在 fault_desc_clean 中删除了所有有意义的词，只剩下空字符串或停用词，TF-IDF 会生成全零向量。"
   ]
  },
  {
   "cell_type": "code",
   "execution_count": 3,
   "id": "7d2084cd",
   "metadata": {},
   "outputs": [
    {
     "name": "stdout",
     "output_type": "stream",
     "text": [
      "非零元素比例: 0.0351\n"
     ]
    }
   ],
   "source": [
    "#对中文文本进行分词\n",
    "from sklearn.feature_extraction.text import TfidfVectorizer \n",
    "import jieba\n",
    "\n",
    "# 分词并添加空格（TfidfVectorizer默认按空格分词）\n",
    "df[\"fault_desc_tokenized\"] = df[\"fault_desc_clean\"].apply(\n",
    "    lambda x: \" \".join(jieba.cut(x))\n",
    ")\n",
    "\n",
    "# 重新创建并训练TF-IDF向量器\n",
    "tfidf = TfidfVectorizer(max_features=200)\n",
    "X = tfidf.fit_transform(df[\"fault_desc_tokenized\"]).toarray()\n",
    "y = df[\"fault_type\"]  # 标签  \n",
    "\n",
    "# 保存TF-IDF向量器\n",
    "import joblib\n",
    "joblib.dump(tfidf, \"tfidf_vectorizer.pkl\")\n",
    "\n",
    "# 检查非零元素比例（验证是否解决问题）\n",
    "non_zero_ratio = (X != 0).sum() / X.size\n",
    "print(f\"非零元素比例: {non_zero_ratio:.4f}\")"
   ]
  },
  {
   "cell_type": "code",
   "execution_count": 9,
   "id": "a8882c24",
   "metadata": {},
   "outputs": [
    {
     "name": "stdout",
     "output_type": "stream",
     "text": [
      "前20个特征词: ['adobe' 'air' 'autocad' 'cad' 'chrome' 'cmos' 'cpu' 'defender' 'dns'\n",
      " 'excel' 'gb' 'ip' 'ip地址' 'jpg' 'kb' 'mac' 'macbook' 'oa' 'office'\n",
      " 'outlook']\n"
     ]
    }
   ],
   "source": [
    "print(\"前20个特征词:\", tfidf.get_feature_names_out()[:20])"
   ]
  },
  {
   "cell_type": "code",
   "execution_count": 12,
   "id": "b97bb1fb",
   "metadata": {},
   "outputs": [
    {
     "data": {
      "text/plain": [
       "['fault_classifier.pkl']"
      ]
     },
     "execution_count": 12,
     "metadata": {},
     "output_type": "execute_result"
    }
   ],
   "source": [
    "\n",
    "from sklearn.model_selection import train_test_split  \n",
    "#测试集占总数据比例20%\n",
    "X_train, X_test, y_train, y_test = train_test_split(X, y, test_size=0.2, random_state=42)  \n",
    "#支持向量机\n",
    "from sklearn.svm import SVC  \n",
    "model_svm = SVC(kernel=\"linear\",C=10)  # 线性核适合文本  \n",
    "model_svm.fit(X_train, y_train)  \n",
    "# 保存模型\n",
    "joblib.dump(model_svm, \"fault_classifier.pkl\")"
   ]
  },
  {
   "cell_type": "code",
   "execution_count": 13,
   "id": "a439654f",
   "metadata": {},
   "outputs": [
    {
     "name": "stdout",
     "output_type": "stream",
     "text": [
      "准确率：0.71\n",
      "混淆矩阵：\n",
      " [[7 1 0 2]\n",
      " [1 4 0 0]\n",
      " [0 2 4 0]\n",
      " [2 0 0 5]]\n"
     ]
    }
   ],
   "source": [
    "from sklearn.metrics import accuracy_score, confusion_matrix  \n",
    "# 以SVM为例  \n",
    "y_pred = model_svm.predict(X_test)  \n",
    "print(f\"准确率：{accuracy_score(y_test, y_pred):.2f}\")  \n",
    "print(\"混淆矩阵：\\n\", confusion_matrix(y_test, y_pred))  \n"
   ]
  },
  {
   "cell_type": "code",
   "execution_count": null,
   "id": "b06231b3",
   "metadata": {},
   "outputs": [],
   "source": [
    "from flask import Flask, request, jsonify  \n",
    "app = Flask(__name__)  \n",
    "model = joblib.load(\"fault_classifier.pkl\")  \n",
    "tfidf = joblib.load(\"tfidf_vectorizer.pkl\")  \n",
    "solutions = pd.read_csv(\"solutions.csv\")  \n",
    "@app.route(\"/predict\", methods=[\"POST\"])  \n",
    "def predict():  \n",
    "    user_input = request.json.get(\"fault_desc\")  # 用户输入的故障描述\n",
    "    # 预处理  \n",
    "    input_clean = re.sub(r\"[^\\u4e00-\\u9fa5a-zA-Z]\", \" \", user_input)  \n",
    "    input_tfidf = tfidf.transform([input_clean]).toarray()  \n",
    "    # 预测故障类型  \n",
    "    pred_type = model.predict(input_tfidf)[0]  \n",
    "    # 匹配解决方案  \n",
    "    solution = solutions[solutions[\"fault_type\"] == pred_type][\"solution\"].values[0]  \n",
    "    return jsonify({  \n",
    "        \"fault_type\": pred_type,  \n",
    "        \"solution\": solution  \n",
    "    })  \n"
   ]
  },
  {
   "cell_type": "code",
   "execution_count": 15,
   "id": "702b164f",
   "metadata": {},
   "outputs": [
    {
     "name": "stdout",
     "output_type": "stream",
     "text": [
      " * Serving Flask app '__main__'\n",
      " * Debug mode: on\n"
     ]
    },
    {
     "name": "stderr",
     "output_type": "stream",
     "text": [
      "WARNING: This is a development server. Do not use it in a production deployment. Use a production WSGI server instead.\n",
      " * Running on http://127.0.0.1:5000\n",
      "Press CTRL+C to quit\n",
      " * Restarting with stat\n"
     ]
    },
    {
     "ename": "SystemExit",
     "evalue": "1",
     "output_type": "error",
     "traceback": [
      "An exception has occurred, use %tb to see the full traceback.\n",
      "\u001b[31mSystemExit\u001b[39m\u001b[31m:\u001b[39m 1\n"
     ]
    },
    {
     "name": "stderr",
     "output_type": "stream",
     "text": [
      "C:\\Users\\Wendy Xue\\AppData\\Roaming\\Python\\Python312\\site-packages\\IPython\\core\\interactiveshell.py:3675: UserWarning: To exit: use 'exit', 'quit', or Ctrl-D.\n",
      "  warn(\"To exit: use 'exit', 'quit', or Ctrl-D.\", stacklevel=1)\n"
     ]
    }
   ],
   "source": [
    " \n",
    "app.run(debug=True)  # 本地运行，访问http://127.0.0.1:5000  "
   ]
  }
 ],
 "metadata": {
  "kernelspec": {
   "display_name": "Python 3",
   "language": "python",
   "name": "python3"
  },
  "language_info": {
   "codemirror_mode": {
    "name": "ipython",
    "version": 3
   },
   "file_extension": ".py",
   "mimetype": "text/x-python",
   "name": "python",
   "nbconvert_exporter": "python",
   "pygments_lexer": "ipython3",
   "version": "3.12.8"
  }
 },
 "nbformat": 4,
 "nbformat_minor": 5
}
