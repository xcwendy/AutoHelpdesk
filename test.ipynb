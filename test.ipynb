{
 "cells": [
  {
   "cell_type": "code",
   "execution_count": 17,
   "id": "f97bfec1",
   "metadata": {},
   "outputs": [],
   "source": [
    "import json\n",
    "li= [\n",
    "    {'id': 1, 'parentId': None, 'name': '1'},\n",
    "    {'id': 2, 'parentId': 1, 'name': '1-1'},\n",
    "    {'id': 3, 'parentId': 1, 'name': '1-2'},\n",
    "    {'id': 4, 'parentId': 2, 'name': '1-1-1'},\n",
    "    {'id': 5, 'parentId': 2, 'name': '1-1-2'},\n",
    "    {'id': 6, 'parentId': 3, 'name': '1-2-1'},\n",
    "    {'id': 7, 'parentId': 3, 'name': '1-2-2'},\n",
    "    {'id': 8, 'parentId': None, 'name': '2'},\n",
    "    {'id': 9, 'parentId': 8, 'name': '2-1'},\n",
    "    {'id': 10, 'parentId': 8, 'name': '2-2'}\n",
    "]\n",
    "\n",
    "\n"
   ]
  },
  {
   "cell_type": "code",
   "execution_count": null,
   "id": "9f545a5c",
   "metadata": {},
   "outputs": [
    {
     "name": "stdout",
     "output_type": "stream",
     "text": [
      "[{\"id\": 1, \"name\": \"1\", \"children\": [{\"id\": 2, \"name\": \"1-1\", \"children\": [{\"id\": 4, \"name\": \"1-1-1\", \"children\": []}, {\"id\": 5, \"name\": \"1-1-2\", \"children\": []}]}, {\"id\": 3, \"name\": \"1-2\", \"children\": [{\"id\": 6, \"name\": \"1-2-1\", \"children\": []}, {\"id\": 7, \"name\": \"1-2-2\", \"children\": []}]}]}, {\"id\": 8, \"name\": \"2\", \"children\": [{\"id\": 9, \"name\": \"2-1\", \"children\": []}, {\"id\": 10, \"name\": \"2-2\", \"children\": []}]}]\n"
     ]
    }
   ],
   "source": [
    "# new_list = []\n",
    "\n",
    "# def dicttojson(i,n):\n",
    "#     for node in li:\n",
    "#         if node['parentId'] ==  None and 'parentId' in n and n['parentId'] !=  None:\n",
    "#             new_node = {'id':node['id'],'name':node['name'],'children':[]}\n",
    "#             new_list.append(new_node)\n",
    "#             dicttojson(node['id'],new_node)\n",
    "#         else:\n",
    "#             if node['parentId'] == i:\n",
    "#                 new_node = {'id':node['id'],'name':node['name'],'children':[]}\n",
    "#                 n['children'].append(new_node)\n",
    "#                 dicttojson(node['id'],new_node)\n",
    "            \n",
    "# dicttojson(None,None)\n",
    "# print(new_list)"
   ]
  },
  {
   "cell_type": "code",
   "execution_count": 22,
   "id": "5f14824a",
   "metadata": {},
   "outputs": [
    {
     "name": "stdout",
     "output_type": "stream",
     "text": [
      "[{\"id\": 1, \"name\": \"1\", \"children\": [{\"id\": 2, \"name\": \"1-1\", \"children\": [{\"id\": 4, \"name\": \"1-1-1\", \"children\": []}, {\"id\": 5, \"name\": \"1-1-2\", \"children\": []}]}, {\"id\": 3, \"name\": \"1-2\", \"children\": [{\"id\": 6, \"name\": \"1-2-1\", \"children\": []}, {\"id\": 7, \"name\": \"1-2-2\", \"children\": []}]}]}, {\"id\": 8, \"name\": \"2\", \"children\": [{\"id\": 9, \"name\": \"2-1\", \"children\": []}, {\"id\": 10, \"name\": \"2-2\", \"children\": []}]}]\n"
     ]
    }
   ],
   "source": [
    "\n",
    "def dicttojson(l,parentId=None):\n",
    "    new_list = []\n",
    "    for node in l:\n",
    "        if node['parentId'] == parentId:\n",
    "            if 'children' not in node:\n",
    "                node.update({'children':[]})\n",
    "            children = dicttojson(l,node['id'])\n",
    "            new_node = {'id':node['id'],'name':node['name'],'children':children}\n",
    "            new_list.append(new_node)\n",
    "        \n",
    "    return new_list\n",
    "\n",
    "print(json.dumps(dicttojson(li)))\n",
    "\n",
    "            "
   ]
  },
  {
   "cell_type": "code",
   "execution_count": null,
   "id": "7e80827c",
   "metadata": {},
   "outputs": [],
   "source": []
  }
 ],
 "metadata": {
  "kernelspec": {
   "display_name": "Python 3",
   "language": "python",
   "name": "python3"
  },
  "language_info": {
   "codemirror_mode": {
    "name": "ipython",
    "version": 3
   },
   "file_extension": ".py",
   "mimetype": "text/x-python",
   "name": "python",
   "nbconvert_exporter": "python",
   "pygments_lexer": "ipython3",
   "version": "3.12.8"
  }
 },
 "nbformat": 4,
 "nbformat_minor": 5
}
