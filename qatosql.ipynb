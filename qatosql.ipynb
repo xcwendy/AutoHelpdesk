{
 "cells": [
  {
   "cell_type": "code",
   "execution_count": 21,
   "id": "8a5ae169",
   "metadata": {},
   "outputs": [],
   "source": [
    "import pandas as pd\n",
    "import re\n",
    "\n",
    "# 读取整合后的数据集\n",
    "df = pd.read_csv(\"question_solution.csv\")\n",
    "\n",
    "#id存入列表,这个后面要存到数据库\n",
    "ids = df['id'].tolist()\n",
    "df[\"fault_desc_clean\"] = df[\"fault_desc\"].apply(lambda x: re.sub(r\"[^\\u4e00-\\u9fa5a-zA-Z]\", \" \", str(x)))\n",
    "stopwords = [\"的\", \"我\", \"怎么办\", \"电脑\", \"软件\", \"故障\"]\n",
    "df[\"fault_desc_clean\"] = df[\"fault_desc_clean\"].apply(lambda x: \" \".join([w for w in x.split() if w not in stopwords]))\n"
   ]
  },
  {
   "cell_type": "code",
   "execution_count": 78,
   "id": "0b5e9c0a",
   "metadata": {},
   "outputs": [
    {
     "name": "stdout",
     "output_type": "stream",
     "text": [
      "[1 1 1 1 1 1 1 1 1 1 3 3 3 3 3 3 3 3 3 3 0 0 0 0 0 0 0 0 0 0 2 2 2 2 2 2 2\n",
      " 2 2 2 1 1 1 1 1 1 1 1 1 1 3 3 3 3 3 3 3 3 3 3 0 0 0 0 0 0 0 0 0 0 2 2 2 2\n",
      " 2 2 2 0 0 1 1 1 1 1 1 1 1 1 1 3 3 3 3 3 3 3 3 3 3 0 0 0 0 0 0 0 0 0 0 2 2\n",
      " 2 2 2 2 2 0 0 1 1 1 1 1 1 1 1 1 1 3 3 3 3 3 3 3 3 3 3]\n"
     ]
    }
   ],
   "source": [
    "#对中文文本进行分词\n",
    "from sklearn.feature_extraction.text import TfidfVectorizer \n",
    "import jieba\n",
    "from sklearn.preprocessing import LabelEncoder\n",
    "\n",
    "# 分词并添加空格（TfidfVectorizer默认按空格分词）\n",
    "df[\"fault_desc_tokenized\"] = df[\"fault_desc_clean\"].apply(lambda x: \" \".join(jieba.cut(x)))\n",
    "\n",
    "# 重新创建并训练TF-IDF向量器\n",
    "tfidf = TfidfVectorizer(max_features=200)\n",
    "X = tfidf.fit_transform(df[\"fault_desc_tokenized\"]).toarray()\n",
    "\n",
    "#标签编码\n",
    "le = LabelEncoder()\n",
    "y = le.fit_transform(df[\"fault_type\"])\n",
    "\n",
    "import joblib\n",
    "joblib.dump(le, 'label_encoder.pkl')\n",
    "\n",
    "print(y)\n",
    "\n"
   ]
  },
  {
   "cell_type": "code",
   "execution_count": 74,
   "id": "57fc81a5",
   "metadata": {},
   "outputs": [
    {
     "name": "stdout",
     "output_type": "stream",
     "text": [
      "非零元素比例: 0.0351\n"
     ]
    }
   ],
   "source": [
    "# 保存TF-IDF向量器\n",
    "import joblib\n",
    "joblib.dump(tfidf, \"tfidf_vectorizer.pkl\")\n",
    "# 检查非零元素比例（验证是否解决问题）\n",
    "non_zero_ratio = (X != 0).sum() / X.size\n",
    "print(f\"非零元素比例: {non_zero_ratio:.4f}\")"
   ]
  },
  {
   "cell_type": "code",
   "execution_count": 75,
   "id": "3353e092",
   "metadata": {},
   "outputs": [
    {
     "name": "stdout",
     "output_type": "stream",
     "text": [
      "{'系统类': <Compressed Sparse Row sparse matrix of dtype 'float64'\n",
      "\twith 22 stored elements and shape (40, 200)>, '软件类': <Compressed Sparse Row sparse matrix of dtype 'float64'\n",
      "\twith 18 stored elements and shape (40, 200)>, '硬件类': <Compressed Sparse Row sparse matrix of dtype 'float64'\n",
      "\twith 6 stored elements and shape (34, 200)>, '网络类': <Compressed Sparse Row sparse matrix of dtype 'float64'\n",
      "\twith 5 stored elements and shape (24, 200)>}\n"
     ]
    }
   ],
   "source": [
    "# 按问题类型分别保存问题描述的TF - IDF向量\n",
    "type_question_vectors = {label: tfidf.transform(df[df[\"fault_type\"] == label][\"fault_desc_clean\"]) for label in df[\"fault_type\"].unique()}\n",
    "joblib.dump(type_question_vectors, 'type_question_vectors.pkl')\n",
    "print(type_question_vectors)"
   ]
  },
  {
   "cell_type": "code",
   "execution_count": 76,
   "id": "4c3e8ed1",
   "metadata": {},
   "outputs": [
    {
     "data": {
      "text/plain": [
       "['fault_classifier.pkl']"
      ]
     },
     "execution_count": 76,
     "metadata": {},
     "output_type": "execute_result"
    }
   ],
   "source": [
    "from sklearn.model_selection import train_test_split  \n",
    "#测试集占总数据比例20%\n",
    "X_train, X_test, y_train, y_test = train_test_split(X, y, test_size=0.2, random_state=42)  \n",
    "#支持向量机\n",
    "from sklearn.svm import SVC  \n",
    "model_svm = SVC(kernel=\"linear\",C=10)  # 线性核适合文本  \n",
    "model_svm.fit(X_train, y_train)  \n",
    "# 保存模型\n",
    "joblib.dump(model_svm, \"fault_classifier.pkl\")"
   ]
  },
  {
   "cell_type": "code",
   "execution_count": 77,
   "id": "8834c92c",
   "metadata": {},
   "outputs": [
    {
     "name": "stdout",
     "output_type": "stream",
     "text": [
      "准确率：0.71\n",
      "混淆矩阵：\n",
      " [[7 1 0 2]\n",
      " [1 4 0 0]\n",
      " [0 2 4 0]\n",
      " [2 0 0 5]]\n"
     ]
    }
   ],
   "source": [
    "from sklearn.metrics import accuracy_score, confusion_matrix  \n",
    "# 以SVM为例  \n",
    "y_pred = model_svm.predict(X_test)  \n",
    "print(f\"准确率：{accuracy_score(y_test, y_pred):.2f}\")  \n",
    "print(\"混淆矩阵：\\n\", confusion_matrix(y_test, y_pred)) "
   ]
  },
  {
   "cell_type": "code",
   "execution_count": 81,
   "id": "003421d5",
   "metadata": {},
   "outputs": [
    {
     "name": "stdout",
     "output_type": "stream",
     "text": [
      "预测索引: 0\n",
      "预测类型：硬件类\n",
      "[0.         0.         0.         0.         0.         0.\n",
      " 0.51599777 0.         0.         0.         0.         0.\n",
      " 0.         0.         0.         0.         0.         0.\n",
      " 0.         0.         0.         0.         0.         0.\n",
      " 0.         0.         0.         0.         0.         0.51599777\n",
      " 0.         0.19996349 0.         0.        ]\n",
      "6\n"
     ]
    }
   ],
   "source": [
    "model = joblib.load('fault_classifier.pkl')\n",
    "tfidf = joblib.load('tfidf_vectorizer.pkl')\n",
    "type_question_vectors = joblib.load('type_question_vectors.pkl')\n",
    "labelen = joblib.load('label_encoder.pkl')\n",
    "user_question=\"打印机提示“卡纸”，但打开后没找到纸张\"\n",
    "# 文本清洗函数\n",
    "def clean_text(text):\n",
    "    text = re.sub(r\"[^\\u4e00-\\u9fa5a-zA-Z]\", \" \", str(text))\n",
    "    stopwords = [\"的\", \"我\", \"怎么办\", \"电脑\", \"软件\", \"故障\"]\n",
    "    text = \" \".join([w for w in text.split() if w not in stopwords])\n",
    "    text = \" \".join(jieba.cut(text))\n",
    "    return text\n",
    "\n",
    "clean_question = clean_text(user_question)\n",
    "question_vector = tfidf.transform([clean_question]).toarray()\n",
    "predicted_index = model_svm.predict(question_vector)[0]\n",
    "predicted_type = le.inverse_transform([predicted_index])[0]\n",
    "\n",
    "print(f\"预测索引: {predicted_index}\")\n",
    "print(f\"预测类型：{predicted_type}\")\n",
    "\n",
    "from sklearn.metrics.pairwise import cosine_similarity\n",
    "\n",
    "similarities = cosine_similarity(question_vector, type_question_vectors[predicted_type])[0]\n",
    "most_similar_index = similarities.argmax()\n",
    "print(similarities)\n",
    "print(most_similar_index)\n",
    "\n",
    "# for k, v in label_mapping.items():\n",
    "#     if v == predicted_index:\n",
    "#         predicted_type = k\n",
    "#         print(f\"预测的文本标签: {predicted_type}\")\n",
    "#         break"
   ]
  },
  {
   "cell_type": "code",
   "execution_count": 79,
   "id": "3a37533b",
   "metadata": {},
   "outputs": [
    {
     "name": "stdout",
     "output_type": "stream",
     "text": [
      "{'solution': '1. 检查打印机内部：打开打印机盖板，检查是否有残留纸张碎片\\\\n2. 重启打印机：关闭打印机电源，等待30秒后重新开启\\\\n3. 更新打印机驱动：到惠普官网下载对应型号的最新驱动程序', 'predicted_type': '硬件类', 'id': 27}\n"
     ]
    }
   ],
   "source": [
    "import pymysql\n",
    "# 连接到MySQL数据库\n",
    "\n",
    "conn = pymysql.connect(\n",
    "    host='localhost',\n",
    "    user='root',\n",
    "    password='9696',\n",
    "    database='qapairs',\n",
    "    charset='utf8mb4'\n",
    ")\n",
    "\n",
    "try:\n",
    "    with conn.cursor() as cursor:\n",
    "        select_query = \"SELECT id, fault_type, solution FROM combined_fault_data WHERE fault_type = %s\"\n",
    "        cursor.execute(select_query, (predicted_type,))\n",
    "        data = cursor.fetchall()\n",
    "\n",
    "        ids = [row[0] for row in data]\n",
    "        solutions = [row[2] for row in data]\n",
    "\n",
    "        id_value = ids[most_similar_index]\n",
    "        solution = solutions[most_similar_index]\n",
    "        #logging.info(f\"Predicted type: {predicted_type}, Matched id: {id_value}\")\n",
    "\n",
    "finally:\n",
    "    conn.close()\n",
    "\n",
    "print({'solution': solution, 'predicted_type': predicted_type, 'id': id_value})\n",
    "\n"
   ]
  }
 ],
 "metadata": {
  "kernelspec": {
   "display_name": "Python 3",
   "language": "python",
   "name": "python3"
  },
  "language_info": {
   "codemirror_mode": {
    "name": "ipython",
    "version": 3
   },
   "file_extension": ".py",
   "mimetype": "text/x-python",
   "name": "python",
   "nbconvert_exporter": "python",
   "pygments_lexer": "ipython3",
   "version": "3.12.8"
  }
 },
 "nbformat": 4,
 "nbformat_minor": 5
}
